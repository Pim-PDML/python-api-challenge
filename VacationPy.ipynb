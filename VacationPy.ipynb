{
 "cells": [
  {
   "cell_type": "markdown",
   "metadata": {},
   "source": [
    "# VacationPy\n",
    "----\n",
    "\n",
    "#### Note\n",
    "* Keep an eye on your API usage. Use https://developers.google.com/maps/reporting/gmp-reporting as reference for how to monitor your usage and billing.\n",
    "\n",
    "* Instructions have been included for each segment. You do not have to follow them exactly, but they are included to help you think through the steps."
   ]
  },
  {
   "cell_type": "code",
   "execution_count": 1,
   "metadata": {},
   "outputs": [],
   "source": [
    "# Dependencies and Setup\n",
    "import matplotlib.pyplot as plt\n",
    "import pandas as pd\n",
    "import numpy as np\n",
    "import requests\n",
    "import gmaps\n",
    "import os\n",
    "\n",
    "# Import API key\n",
    "from api_keys import g_key"
   ]
  },
  {
   "cell_type": "markdown",
   "metadata": {},
   "source": [
    "### Store Part I results into DataFrame\n",
    "* Load the csv exported in Part I to a DataFrame"
   ]
  },
  {
   "cell_type": "code",
   "execution_count": 2,
   "metadata": {},
   "outputs": [],
   "source": [
    "city = \"./output/final_city.csv\"\n",
    "city_df = pd.read_csv(city)\n"
   ]
  },
  {
   "cell_type": "markdown",
   "metadata": {},
   "source": [
    "### Humidity Heatmap\n",
    "* Configure gmaps.\n",
    "* Use the Lat and Lng as locations and Humidity as the weight.\n",
    "* Add Heatmap layer to map."
   ]
  },
  {
   "cell_type": "code",
   "execution_count": 3,
   "metadata": {},
   "outputs": [],
   "source": [
    "gmaps.configure(api_key=g_key)\n",
    "locations = city_df[[\"Lat\", \"Lng\"]]\n",
    "humidity = city_df[\"Humidity\"]"
   ]
  },
  {
   "cell_type": "code",
   "execution_count": 4,
   "metadata": {},
   "outputs": [
    {
     "data": {
      "application/vnd.jupyter.widget-view+json": {
       "model_id": "9c97e6ea807943948165dd2a577cd14b",
       "version_major": 2,
       "version_minor": 0
      },
      "text/plain": [
       "Figure(layout=FigureLayout(border='1px solid black', height='400px', padding='1px', width='500px'))"
      ]
     },
     "metadata": {},
     "output_type": "display_data"
    }
   ],
   "source": [
    "figure_layout = {'width': '500px','height': '400px','border': '1px solid black','padding': '1px'}\n",
    "\n",
    "fig = gmaps.figure(zoom_level = 1, center = (0,0), layout=figure_layout)\n",
    "\n",
    "heat_layer = gmaps.heatmap_layer(locations, weights=humidity, dissipating=False, max_intensity=100, point_radius = 2)\n",
    "\n",
    "fig.add_layer(heat_layer)\n",
    "\n",
    "fig"
   ]
  },
  {
   "cell_type": "markdown",
   "metadata": {},
   "source": [
    "### Create new DataFrame fitting weather criteria\n",
    "* Narrow down the cities to fit weather conditions.\n",
    "* Drop any rows will null values."
   ]
  },
  {
   "cell_type": "code",
   "execution_count": 5,
   "metadata": {},
   "outputs": [],
   "source": [
    "city_df = city_df[city_df['Max Temp'] < 30]\n",
    "city_df = city_df[city_df['Max Temp'] > 20]\n",
    "city_df = city_df[city_df['Wind Speed'] < 10]\n",
    "city_df = city_df[city_df['Cloudiness'] < 50]\n",
    "\n",
    "city_df = city_df.dropna()"
   ]
  },
  {
   "cell_type": "markdown",
   "metadata": {},
   "source": [
    "### Hotel Map\n",
    "* Store into variable named `hotel_df`.\n",
    "* Add a \"Hotel Name\" column to the DataFrame.\n",
    "* Set parameters to search for hotels with 5000 meters.\n",
    "* Hit the Google Places API for each city's coordinates.\n",
    "* Store the first Hotel result into the DataFrame.\n",
    "* Plot markers on top of the heatmap."
   ]
  },
  {
   "cell_type": "code",
   "execution_count": 6,
   "metadata": {},
   "outputs": [
    {
     "name": "stdout",
     "output_type": "stream",
     "text": [
      "east london not found\n",
      "avarua not found\n",
      "kapaa not found\n",
      "boa vista not found\n",
      "atuona not found\n",
      "kalmunai not found\n",
      "arraial do cabo not found\n",
      "vaini not found\n",
      "kulhudhuffushi not found\n",
      "salalah not found\n",
      "wahiawa not found\n",
      "kloulklubed not found\n",
      "sao filipe not found\n",
      "sabang not found\n",
      "najran not found\n",
      "port blair not found\n",
      "san andres not found\n",
      "pochutla not found\n",
      "lazaro cardenas not found\n",
      "faanui not found\n",
      "ati not found\n",
      "cabo san lucas not found\n",
      "batticaloa not found\n",
      "san patricio not found\n",
      "hithadhoo not found\n",
      "aparecida do taboado not found\n",
      "serenje not found\n",
      "gao not found\n",
      "ambatofinandrahana not found\n",
      "porto velho not found\n",
      "acapulco not found\n",
      "mwingi not found\n",
      "port elizabeth not found\n",
      "mercedes not found\n",
      "cunduacan not found\n",
      "takoradi not found\n",
      "tessalit not found\n",
      "vila velha not found\n",
      "amambai not found\n",
      "pointe michel not found\n",
      "aquidauana not found\n",
      "pak phanang not found\n",
      "bara not found\n",
      "adre not found\n",
      "boyolangu not found\n",
      "port lavaca not found\n",
      "bambanglipuro not found\n",
      "nabire not found\n",
      "balikpapan not found\n",
      "sal rei not found\n",
      "saint-georges not found\n",
      "rawson not found\n",
      "diffa not found\n",
      "pringsewu not found\n",
      "ixtapa not found\n",
      "sao joao da barra not found\n",
      "veraval not found\n",
      "tiptur not found\n",
      "gangavalli not found\n",
      "sur not found\n",
      "ewa beach not found\n",
      "ambon not found\n",
      "moindou not found\n",
      "cockburn town not found\n",
      "kavaratti not found\n",
      "gossas not found\n",
      "puerto madryn not found\n",
      "nieuw amsterdam not found\n",
      "delhi not found\n",
      "ratnagiri not found\n",
      "mecca not found\n",
      "nicoya not found\n",
      "tulungagung not found\n",
      "bhopal not found\n",
      "illela not found\n",
      "la plaine not found\n",
      "cap malheureux not found\n",
      "conde not found\n"
     ]
    },
    {
     "data": {
      "text/html": [
       "<div>\n",
       "<style scoped>\n",
       "    .dataframe tbody tr th:only-of-type {\n",
       "        vertical-align: middle;\n",
       "    }\n",
       "\n",
       "    .dataframe tbody tr th {\n",
       "        vertical-align: top;\n",
       "    }\n",
       "\n",
       "    .dataframe thead th {\n",
       "        text-align: right;\n",
       "    }\n",
       "</style>\n",
       "<table border=\"1\" class=\"dataframe\">\n",
       "  <thead>\n",
       "    <tr style=\"text-align: right;\">\n",
       "      <th></th>\n",
       "      <th>Unnamed: 0</th>\n",
       "      <th>City</th>\n",
       "      <th>Lat</th>\n",
       "      <th>Lng</th>\n",
       "      <th>Max Temp</th>\n",
       "      <th>Humidity</th>\n",
       "      <th>Cloudiness</th>\n",
       "      <th>Wind Speed</th>\n",
       "      <th>Country</th>\n",
       "      <th>Date</th>\n",
       "      <th>Hotel Name</th>\n",
       "    </tr>\n",
       "  </thead>\n",
       "  <tbody>\n",
       "    <tr>\n",
       "      <th>0</th>\n",
       "      <td>0</td>\n",
       "      <td>east london</td>\n",
       "      <td>-33.0153</td>\n",
       "      <td>27.9116</td>\n",
       "      <td>29.52</td>\n",
       "      <td>54</td>\n",
       "      <td>0</td>\n",
       "      <td>4.63</td>\n",
       "      <td>ZA</td>\n",
       "      <td>1640596015</td>\n",
       "      <td></td>\n",
       "    </tr>\n",
       "    <tr>\n",
       "      <th>1</th>\n",
       "      <td>1</td>\n",
       "      <td>avarua</td>\n",
       "      <td>-21.2078</td>\n",
       "      <td>-159.7750</td>\n",
       "      <td>23.03</td>\n",
       "      <td>83</td>\n",
       "      <td>46</td>\n",
       "      <td>1.54</td>\n",
       "      <td>CK</td>\n",
       "      <td>1640596016</td>\n",
       "      <td></td>\n",
       "    </tr>\n",
       "    <tr>\n",
       "      <th>3</th>\n",
       "      <td>3</td>\n",
       "      <td>kapaa</td>\n",
       "      <td>22.0752</td>\n",
       "      <td>-159.3190</td>\n",
       "      <td>23.18</td>\n",
       "      <td>73</td>\n",
       "      <td>20</td>\n",
       "      <td>0.45</td>\n",
       "      <td>US</td>\n",
       "      <td>1640596017</td>\n",
       "      <td></td>\n",
       "    </tr>\n",
       "    <tr>\n",
       "      <th>18</th>\n",
       "      <td>18</td>\n",
       "      <td>boa vista</td>\n",
       "      <td>2.8197</td>\n",
       "      <td>-60.6733</td>\n",
       "      <td>24.99</td>\n",
       "      <td>78</td>\n",
       "      <td>0</td>\n",
       "      <td>4.12</td>\n",
       "      <td>BR</td>\n",
       "      <td>1640596030</td>\n",
       "      <td></td>\n",
       "    </tr>\n",
       "    <tr>\n",
       "      <th>22</th>\n",
       "      <td>22</td>\n",
       "      <td>atuona</td>\n",
       "      <td>-9.8000</td>\n",
       "      <td>-139.0333</td>\n",
       "      <td>25.91</td>\n",
       "      <td>79</td>\n",
       "      <td>24</td>\n",
       "      <td>6.96</td>\n",
       "      <td>PF</td>\n",
       "      <td>1640596033</td>\n",
       "      <td></td>\n",
       "    </tr>\n",
       "  </tbody>\n",
       "</table>\n",
       "</div>"
      ],
      "text/plain": [
       "    Unnamed: 0         City      Lat       Lng  Max Temp  Humidity  \\\n",
       "0            0  east london -33.0153   27.9116     29.52        54   \n",
       "1            1       avarua -21.2078 -159.7750     23.03        83   \n",
       "3            3        kapaa  22.0752 -159.3190     23.18        73   \n",
       "18          18    boa vista   2.8197  -60.6733     24.99        78   \n",
       "22          22       atuona  -9.8000 -139.0333     25.91        79   \n",
       "\n",
       "    Cloudiness  Wind Speed Country        Date Hotel Name  \n",
       "0            0        4.63      ZA  1640596015             \n",
       "1           46        1.54      CK  1640596016             \n",
       "3           20        0.45      US  1640596017             \n",
       "18           0        4.12      BR  1640596030             \n",
       "22          24        6.96      PF  1640596033             "
      ]
     },
     "execution_count": 6,
     "metadata": {},
     "output_type": "execute_result"
    }
   ],
   "source": [
    "hotel_df = city_df\n",
    "\n",
    "hotel_df[\"Hotel Name\"] = \"\"\n",
    "\n",
    "target_type = \"lodging\"\n",
    "radius = 5000\n",
    "\n",
    "params = {\"types\": target_type,\"radius\": radius,\"key\": g_key}\n",
    "\n",
    "base_url = \"https://maps.googleapis.com/maps/api/place/nearbysearch/json\"\n",
    "\n",
    "for index, row in hotel_df.iterrows():\n",
    "    lat = row[\"Lat\"]\n",
    "    lng = row[\"Lng\"]\n",
    "    params[\"location\"] = f\"{lat},{lng}\"    \n",
    "    base_url = \"https://maps.googleapis.com/maps/api/place/nearbysearch/json\"    \n",
    "    response_json = requests.get(base_url, params=params).json()\n",
    "    \n",
    "    try:\n",
    "        hotel_df.loc[index, \"Hotel Name\"] = response_json[\"results\"][0][\"name\"]\n",
    "    except:\n",
    "        print(f\"{row['City']} not found\")\n",
    "\n",
    "hotel_df.head()"
   ]
  },
  {
   "cell_type": "code",
   "execution_count": 7,
   "metadata": {},
   "outputs": [],
   "source": [
    "# NOTE: Do not change any of the code in this cell\n",
    "\n",
    "# Using the template add the hotel marks to the heatmap\n",
    "info_box_template = \"\"\"\n",
    "<dl>\n",
    "<dt>Name</dt><dd>{Hotel Name}</dd>\n",
    "<dt>City</dt><dd>{City}</dd>\n",
    "<dt>Country</dt><dd>{Country}</dd>\n",
    "</dl>\n",
    "\"\"\"\n",
    "# Store the DataFrame Row\n",
    "# NOTE: be sure to update with your DataFrame name\n",
    "hotel_info = [info_box_template.format(**row) for index, row in hotel_df.iterrows()]\n",
    "locations = hotel_df[[\"Lat\", \"Lng\"]]"
   ]
  },
  {
   "cell_type": "code",
   "execution_count": 8,
   "metadata": {},
   "outputs": [
    {
     "data": {
      "application/vnd.jupyter.widget-view+json": {
       "model_id": "acaac8beea2d4b85a77ac70a4777ea45",
       "version_major": 2,
       "version_minor": 0
      },
      "text/plain": [
       "Figure(layout=FigureLayout(height='420px'))"
      ]
     },
     "metadata": {},
     "output_type": "display_data"
    }
   ],
   "source": [
    "# Add marker layer ontop of heat map\n",
    "fig = gmaps.figure()\n",
    "markers = gmaps.marker_layer(locations,\n",
    "    info_box_content=[info_box_template.format(**row) for index, row in hotel_df.iterrows()])\n",
    "fig.add_layer(markers)\n",
    "fig\n",
    "\n",
    "# Display figure\n",
    "fig = gmaps.figure()\n",
    "fig.add_layer(heat_layer)\n",
    "fig.add_layer(markers)\n",
    "fig"
   ]
  },
  {
   "cell_type": "code",
   "execution_count": null,
   "metadata": {},
   "outputs": [],
   "source": []
  }
 ],
 "metadata": {
  "kernelspec": {
   "display_name": "Python 3",
   "language": "python",
   "name": "python3"
  },
  "language_info": {
   "codemirror_mode": {
    "name": "ipython",
    "version": 3
   },
   "file_extension": ".py",
   "mimetype": "text/x-python",
   "name": "python",
   "nbconvert_exporter": "python",
   "pygments_lexer": "ipython3",
   "version": "3.8.8"
  },
  "latex_envs": {
   "LaTeX_envs_menu_present": true,
   "autoclose": false,
   "autocomplete": true,
   "bibliofile": "biblio.bib",
   "cite_by": "apalike",
   "current_citInitial": 1,
   "eqLabelWithNumbers": true,
   "eqNumInitial": 1,
   "hotkeys": {
    "equation": "Ctrl-E",
    "itemize": "Ctrl-I"
   },
   "labels_anchors": false,
   "latex_user_defs": false,
   "report_style_numbering": false,
   "user_envs_cfg": false
  }
 },
 "nbformat": 4,
 "nbformat_minor": 4
}
